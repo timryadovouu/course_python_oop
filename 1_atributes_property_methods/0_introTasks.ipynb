{
 "cells": [
  {
   "cell_type": "markdown",
   "metadata": {},
   "source": [
    "## Rewriting course"
   ]
  },
  {
   "cell_type": "markdown",
   "metadata": {},
   "source": [
    "### Task 1 - Дартс\n",
    "**Формат входных данных**\n",
    "На вход программе подается натуральное число — сторона игрового поля.\n",
    "\n",
    "**Формат выходных данных**\n",
    "Программа должна создать и вывести игровое поле с заданной стороной.\n",
    "Гарантируется, что сторона игрового поля не превышает 18."
   ]
  },
  {
   "cell_type": "code",
   "execution_count": 40,
   "metadata": {},
   "outputs": [],
   "source": [
    "def draw_darts(n):\n",
    "    matrix = [[1]*n for _ in range(n)]\n",
    "    step = 1\n",
    "    while step < n - step:\n",
    "        for i in range(step, n-step):\n",
    "            for j in range(step, n-step):\n",
    "                matrix[i][j] += 1\n",
    "        step += 1\n",
    "    for line in matrix:\n",
    "        print(*line)"
   ]
  },
  {
   "cell_type": "code",
   "execution_count": 41,
   "metadata": {},
   "outputs": [
    {
     "name": "stdout",
     "output_type": "stream",
     "text": [
      "1 1 1 1 1\n",
      "1 2 2 2 1\n",
      "1 2 3 2 1\n",
      "1 2 2 2 1\n",
      "1 1 1 1 1\n"
     ]
    }
   ],
   "source": [
    "draw_darts(5)"
   ]
  },
  {
   "cell_type": "markdown",
   "metadata": {},
   "source": [
    "### Task 2 - Скобочная последовательность\n",
    "\n",
    "Назовем скобочной последовательностью строку, состоящую из символов ( и ). Будем считать скобочную последовательность правильной, если: для каждой открывающей скобки есть закрывающая скобка скобки закрываются в правильном порядке, то есть в каждой паре из открывающей и закрывающей скобок открывающая находится левее\n",
    "\n",
    "Нужно определить является ли скобочная последовательность правильной."
   ]
  },
  {
   "cell_type": "code",
   "execution_count": 37,
   "metadata": {},
   "outputs": [],
   "source": [
    "def isBracketSeqCorrect(s):\n",
    "    count = 0\n",
    "    for item in s:\n",
    "        count = count + 1 if item == \"(\" else count - 1\n",
    "        if count < 0:\n",
    "            return False\n",
    "    return count == 0"
   ]
  },
  {
   "cell_type": "code",
   "execution_count": 38,
   "metadata": {},
   "outputs": [
    {
     "data": {
      "text/plain": [
       "True"
      ]
     },
     "execution_count": 38,
     "metadata": {},
     "output_type": "execute_result"
    }
   ],
   "source": [
    "isBracketSeqCorrect(\"((()))\")"
   ]
  },
  {
   "cell_type": "code",
   "execution_count": 39,
   "metadata": {},
   "outputs": [
    {
     "data": {
      "text/plain": [
       "False"
      ]
     },
     "execution_count": 39,
     "metadata": {},
     "output_type": "execute_result"
    }
   ],
   "source": [
    "isBracketSeqCorrect(\"((())))\")"
   ]
  },
  {
   "cell_type": "markdown",
   "metadata": {},
   "source": [
    "### Task 3 - Функция inversions()\n",
    "Дана последовательность чисел a1,a2,...,an​. Назовем пару (ai,aj) инверсией, если i<j, а ai​>aj​. Например, последовательность 3,1,4,2 имеет три инверсии (3,1),(3,2),(4,2). Каждая инверсия — это пара элементов, нарушающих порядок.\n",
    "\n",
    "Реализуйте функцию inversions(), которая принимает один аргумент:\n",
    "- sequence — последовательность, элементами которой являются числа\n",
    "\n",
    "Функция должна возвращать  число — количество инверсий в последовательности sequence"
   ]
  },
  {
   "cell_type": "code",
   "execution_count": 35,
   "metadata": {},
   "outputs": [],
   "source": [
    "import itertools\n",
    "\n",
    "def inversions(sequence):\n",
    "    combinations_list = [pair for pair in itertools.combinations(sequence, r=2) if sequence[sequence.index(pair[0])] > sequence[sequence.index(pair[1])]]\n",
    "    return len(combinations_list)"
   ]
  },
  {
   "cell_type": "code",
   "execution_count": 36,
   "metadata": {},
   "outputs": [],
   "source": [
    "def inversions(sequence):\n",
    "    result, n = 0, len(sequence)\n",
    "    for i in range(n):\n",
    "        for j in range(i+1, n):\n",
    "            if sequence[i] > sequence[j]:\n",
    "                result += 1\n",
    "    return result"
   ]
  },
  {
   "cell_type": "markdown",
   "metadata": {},
   "source": [
    "### Task 4 - Покемоны"
   ]
  },
  {
   "cell_type": "code",
   "execution_count": null,
   "metadata": {},
   "outputs": [],
   "source": []
  }
 ],
 "metadata": {
  "kernelspec": {
   "display_name": ".venv",
   "language": "python",
   "name": "python3"
  },
  "language_info": {
   "codemirror_mode": {
    "name": "ipython",
    "version": 3
   },
   "file_extension": ".py",
   "mimetype": "text/x-python",
   "name": "python",
   "nbconvert_exporter": "python",
   "pygments_lexer": "ipython3",
   "version": "3.12.7"
  }
 },
 "nbformat": 4,
 "nbformat_minor": 2
}
